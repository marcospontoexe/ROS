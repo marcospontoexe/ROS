{
 "cells": [
  {
   "cell_type": "markdown",
   "metadata": {},
   "source": [
    "<div class=\"jumbotron m-0\">\n",
    "    <hr />\n",
    "    <h1 class=\"text-center\">\n",
    "        <span class=\"text-primary\">ROS Navigation in 5 Days</span>\n",
    "    </h1>\n",
    "    <hr />\n",
    "</div>"
   ]
  },
  {
   "cell_type": "markdown",
   "metadata": {},
   "source": [
    "<img src=\"images/navigation_course_details.png\"/>\n"
   ]
  },
  {
   "cell_type": "markdown",
   "metadata": {},
   "source": [
    "<div class=\"bg-primary text-center\">\n",
    "    - Summary -\n",
    "</div>"
   ]
  },
  {
   "cell_type": "markdown",
   "metadata": {},
   "source": [
    "## Navigate with a Real Robot\n",
    "\n",
    "**In this rosject, you will apply everything you've learned in the ROS Navigation course to a TurtleBot3 real robot.**\n",
    "\n",
    "You will practice with both a simulation and a real robot. The real robot is a TurtleBot3 which is running in Barcelona, Spain. You will connect remotely to it and practice on it.\n",
    "\n",
    "Basically, in this project, you will have to:\n",
    "\n",
    "* Apply all of the theory given in the course\n",
    "* Follow the steps provided below without looking at the provided solutions (unless you get really stuck)\n",
    "* Make as many tests as required in the simulation environment until it works\n",
    "\n",
    "To finish this project successfully, we provide the 5 steps you should follow with clear instructions, and even solutions, below.\n",
    "\n",
    "### TurtleBot3 Topics\n",
    "\n",
    "**Sensors**\n",
    "* Laser sensor: TurtleBot3 has an RPLIDAR, which provides information about the objects that it detects in its range. The value of the sensor is provided through the topic */scan*.\n",
    "* Odometry: The odometry of the robot can be accessed through the */odom* topic.\n",
    "\n",
    "**Actuators**\n",
    "* Speed: You can send speed commands to move the robot through the topic */cmd_vel*."
   ]
  },
  {
   "cell_type": "markdown",
   "metadata": {},
   "source": [
    "<div class=\"bg-primary text-center\">\n",
    "    - End of Summary -\n",
    "</div>"
   ]
  },
  {
   "cell_type": "markdown",
   "metadata": {},
   "source": [
    "<div>\n",
    "    <h1 class=\"text-center\">\n",
    "        <span class=\"text-primary\">Section 0</span>\n",
    "        &nbsp;\n",
    "        <span class=\"\">How to proceed</span>\n",
    "    </h1>\n",
    "</div>"
   ]
  },
  {
   "cell_type": "markdown",
   "metadata": {},
   "source": [
    "<div>\n",
    "    <h1 class=\"text-center\">\n",
    "        <span class=\"text-primary\"></span>\n",
    "        &nbsp;\n",
    "        <span class=\"\">The rosject environment</span>\n",
    "    </h1>\n",
    "</div>"
   ]
  },
  {
   "cell_type": "markdown",
   "metadata": {},
   "source": [
    "If this is the first time you've used a rosject, then it might seem a little confusing at first. Don't worry, you'll get the hang of it. Rosjects give you more freedom when you are developing your programs, and allow you to launch more than one simulation and unlimited terminals. It also allows you to connect to real robots. This is what each button from the bottom menu bar represents:"
   ]
  },
  {
   "cell_type": "markdown",
   "metadata": {},
   "source": [
    "* Terminals"
   ]
  },
  {
   "cell_type": "markdown",
   "metadata": {},
   "source": [
    "<img src=\"realrobotlab_notebooks/term.png\" align=\"left\" width=\"50\"/>"
   ]
  },
  {
   "cell_type": "markdown",
   "metadata": {},
   "source": [
    "This is where you will do most of the work, looking for topics, running commands and checking nodes are just a few things. It is the main interface with the linux based virtual machine running behind this rosject."
   ]
  },
  {
   "cell_type": "markdown",
   "metadata": {},
   "source": [
    "* IDE"
   ]
  },
  {
   "cell_type": "markdown",
   "metadata": {},
   "source": [
    "<img src=\"realrobotlab_notebooks/IDE_icon.png\" align=\"left\" width=\"50\"/>"
   ]
  },
  {
   "cell_type": "markdown",
   "metadata": {},
   "source": [
    "The code editor. Very similar to Visual Studio Code. You will write your programs here, and you can also see the folder organization of the rosject. It is worth taking a minute here to identify the most important worskpaces where you will be working and the ones you don't need to pay attention:\n",
    "* `catkin_ws`: The main workspace. ALL of your work will be in here, inside the `src` directory\n",
    "* `simulation_ws`: The workspace where all of the code relating to the simulation is. You do not need to work in here, in fact you can forget about it\n",
    "* `notebook_ws`: The workspace where the notebook and associated images are stored. You do not need to work in here, in fact you can forget about it\n"
   ]
  },
  {
   "cell_type": "markdown",
   "metadata": {},
   "source": [
    "* Notebook"
   ]
  },
  {
   "cell_type": "markdown",
   "metadata": {},
   "source": [
    "<img src=\"realrobotlab_notebooks/notebook_icon.png\" align=\"left\" width=\"50\"/>"
   ]
  },
  {
   "cell_type": "markdown",
   "metadata": {},
   "source": [
    "Opens the default notebook for the rosject. In this case, it's the one you are reading now."
   ]
  },
  {
   "cell_type": "markdown",
   "metadata": {},
   "source": [
    "* Simulation"
   ]
  },
  {
   "cell_type": "markdown",
   "metadata": {},
   "source": [
    "<img src=\"realrobotlab_notebooks/robotarm/gazebo_icon.png\" align=\"left\" width=\"50\"/>"
   ]
  },
  {
   "cell_type": "markdown",
   "metadata": {},
   "source": [
    "Opens the simulation **if a simulation has been launched from a terminal**. You can also select template simulations, but stick to the project simulation in here."
   ]
  },
  {
   "cell_type": "markdown",
   "metadata": {},
   "source": [
    "* Graphical tools"
   ]
  },
  {
   "cell_type": "markdown",
   "metadata": {},
   "source": [
    "<img src=\"realrobotlab_notebooks/robotarm/grphical_tools_ico.png\" align=\"left\" width=\"50\"/>"
   ]
  },
  {
   "cell_type": "markdown",
   "metadata": {},
   "source": [
    "Opens `rviz` **if rviz has been launched from a terminal**. You will also see any other GUI applications in here, like `rqt`."
   ]
  },
  {
   "cell_type": "markdown",
   "metadata": {},
   "source": [
    "* Robot booking"
   ]
  },
  {
   "cell_type": "markdown",
   "metadata": {},
   "source": [
    "<img src=\"realrobotlab_notebooks/robot_booking_icon.png\" align=\"left\" width=\"50\"/>"
   ]
  },
  {
   "cell_type": "markdown",
   "metadata": {},
   "source": [
    "Connects to the real robot lab **if you have a booking at that moment**. To learn how to book the real robot, go to the Appendix of this notebook."
   ]
  },
  {
   "cell_type": "markdown",
   "metadata": {},
   "source": [
    "* Course notebooks"
   ]
  },
  {
   "cell_type": "markdown",
   "metadata": {},
   "source": [
    "<img src=\"realrobotlab_notebooks/course_notebooks_icon.png\" align=\"left\" width=\"50\"/>"
   ]
  },
  {
   "cell_type": "markdown",
   "metadata": {},
   "source": [
    "Opens any notebook from all of our courses. Very useful if you want to quickly check something from the course without having to open it."
   ]
  },
  {
   "cell_type": "markdown",
   "metadata": {},
   "source": [
    "* Connect your OWN robot"
   ]
  },
  {
   "cell_type": "markdown",
   "metadata": {},
   "source": [
    "<img src=\"realrobotlab_notebooks/robot_connect_icon.png\" align=\"left\" width=\"50\"/>"
   ]
  },
  {
   "cell_type": "markdown",
   "metadata": {},
   "source": [
    "Allows you to configure and connect to your own robot. If you want to learn how to do it, check out this video: \n",
    "https://www.youtube.com/watch?v=W4LfASoP-ak"
   ]
  },
  {
   "cell_type": "markdown",
   "metadata": {},
   "source": [
    "<div>\n",
    "    <h1 class=\"text-center\">\n",
    "        <span class=\"text-primary\"></span>\n",
    "        &nbsp;\n",
    "        <span class=\"\">The project</span>\n",
    "    </h1>\n",
    "</div>"
   ]
  },
  {
   "cell_type": "markdown",
   "metadata": {},
   "source": [
    "This rosject is composed of five sections and an Appendix explaining how to connect to the real robot. You should do the first four sections when the ROS Navigation in 5 Days course indicates it. These steps will assure you that you have practiced and created all of the structures asked about in the final exam of this course. If you perform all of the steps mentioned here, you will find the exam passable.\n",
    "\n",
    "* **SECTION I:** Create a map of the environment\n",
    "* **SECTION II:** Localize the robot\n",
    "* **SECTION III:** Create a Path Planning System\n",
    "* **SECTION IV:** Create a ROS program that interacts with the Navigation Stack\n",
    "* **SECTION V:** Book a date to present rosject on YouTube and share it on LinkedIn or social networks (Optional)\n",
    "\n",
    "Go to the section that the course indicates and try to finish it. Before doing that, **launch the rosject simulation**. You will use this simulation to practice with the simulated environment."
   ]
  },
  {
   "cell_type": "markdown",
   "metadata": {},
   "source": [
    "<h1 align=\"center\";> </h1>\n",
    "<div>\n",
    "    <h1 class=\"text-center\">\n",
    "        <span class=\"text-primary\">0.1</span>\n",
    "        &nbsp;\n",
    "        <span class=\"\">Launching a simulation</span>\n",
    "    </h1>\n",
    "</div>"
   ]
  },
  {
   "cell_type": "markdown",
   "metadata": {},
   "source": [
    "Before working on your code, you need a simulation (or an actual robot) to be running. During the course, you saw the simulation running in the top right corner. In there, the simulation launch is done automatically.\n",
    "\n",
    "In here, our development environment that we call rosjects, you will have to launch the simulation in order to start working. This allows you to have more freedom while developing and you can even create your own simulations! \n",
    "\n",
    "For now though, let's focus on launching the simulation we will need for the project:"
   ]
  },
  {
   "cell_type": "markdown",
   "metadata": {},
   "source": [
    "1. Open a terminal by pressing on the *terminal icon* at the bottom left croner of your screen.\n",
    "\n",
    "2. On the opened terminal, type the following ROS command that launches the simulation"
   ]
  },
  {
   "cell_type": "markdown",
   "metadata": {},
   "source": [
    "<span class=\"badge badge-pill badge-primary\">\n",
    "    <i class=\"fa fa-play\"></i>\n",
    "    &nbsp;\n",
    "    Execute in Terminal #1\n",
    "</span>"
   ]
  },
  {
   "cell_type": "code",
   "execution_count": null,
   "metadata": {},
   "outputs": [],
   "source": [
    "roslaunch realrobotlab main.launch"
   ]
  },
  {
   "cell_type": "markdown",
   "metadata": {},
   "source": [
    "The simulation window should appear after a while automatically. If it doesn't, don't worry, you can just d select *Open Gazebo*\n",
    "\n",
    "<img src=\"realrobotlab_notebooks/gazebo.png\"/>\n",
    "\n",
    "**Wait around 30 seconds at the most** for the simulation to start and the simulation should appear in the Gazebo window.\n",
    "\n",
    "You will need to get comfortable launching and killing (by pressing Ctrl+C) the simulation as you will probably be doing it a thousand times in your robotics career.\n",
    "\n",
    "To check if the simulation is working, go to another terminal and check the topics available:"
   ]
  },
  {
   "cell_type": "markdown",
   "metadata": {},
   "source": [
    "<span class=\"badge badge-pill badge-primary\">\n",
    "    <i class=\"fa fa-play\"></i>\n",
    "    &nbsp;\n",
    "    Execute in Terminal #2\n",
    "</span>"
   ]
  },
  {
   "cell_type": "code",
   "execution_count": null,
   "metadata": {},
   "outputs": [],
   "source": [
    "rostopic list"
   ]
  },
  {
   "cell_type": "markdown",
   "metadata": {},
   "source": [
    "If the simulation is launched and working correctly, you should see some topics available. This means that Gazebo is providing you with data from this simulated world, like the information from the robot's lidar and the topic you can use to move the robot around.\n",
    "\n",
    "<img src=\"images/new_sim.png\"/>\n",
    "\n",
    "Look at the topics and think, what information provided by the simulation will be useful to me?"
   ]
  },
  {
   "cell_type": "markdown",
   "metadata": {},
   "source": [
    "<div>\n",
    "    <h1 class=\"text-center\">\n",
    "        <span class=\"text-primary\">Section 1</span>\n",
    "        &nbsp;\n",
    "        <span class=\"\">Mapping</span>\n",
    "    </h1>\n",
    "</div>"
   ]
  },
  {
   "cell_type": "markdown",
   "metadata": {},
   "source": [
    "As you've learned in the first 2 chapters of the course, the first thing you need in order to navigate autonomously with a robot is a map of the environment. Where else would this project start?\n",
    "\n",
    "In this section you will practice how to map the environment around the robot. Your goal is to save this map file in order to use it for localization and navigation.\n",
    "\n",
    "We divide this into 7 steps:\n",
    "\n",
    "1. Make sure that the TurtleBot3 robot is publishing its **transform data** correctly.\n",
    "2. Create a package called **my_turtlebot_mapping** that will contain all of the files related to mapping.\n",
    "3. Create a launch file that will launch the **slam_gmapping** node and add the necessary **parameters** in order to properly configure the slam_gmapping node.\n",
    "4. Launch the slam_gmapping node and **create a map** of the simulated environment.\n",
    "5. **Save the map** that you've just created.\n",
    "6. Create a script that **automatically saves** maps.\n",
    "7. Create a **launch file** that will provide the created map to other nodes.\n",
    "\n",
    "So, let's go!\n",
    "\n",
    "**1. Generate Files to Visualize TF Frame Tree**\n",
    "\n",
    "You should get a TF tree like this one:\n",
    "\n",
    "<img src=\"images/turtlebot_tf_tree.png\"/> \n",
    "\n",
    "Pay close attention to the important frames, you'll use them later.\n",
    "\n",
    "**2. Create a package called my_turtlebot_mapping.**\n",
    "\n",
    "Create the package, adding **rospy** as the only dependency.\n",
    "\n",
    "**3. Create the launch file for the gmapping node.**\n",
    "\n",
    "In the mapping section (Chapter 2) of this course, you've seen how to create a launch file for the slam_gmapping node. You've also seen some of the most important parameters to set. So, in this step, you'll have to create a launch file for the *slam_gmapping* node and add the parameters that you think you need to set.\n",
    "\n",
    "Here you can see a full list of parameters that you can set to configure the slam_gmapping node: http://docs.ros.org/hydro/api/gmapping/html/\n",
    "\n",
    "Here you have an example launch file for the gmapping node:"
   ]
  },
  {
   "cell_type": "code",
   "execution_count": null,
   "metadata": {},
   "outputs": [],
   "source": [
    "<launch>\n",
    "    <node pkg=\"gmapping\" type=\"slam_gmapping\" name=\"slam_gmapping\" output=\"screen\">\n",
    "      <!-- simulation remap from=\"scan\" to=\"/scan\"/ -->\n",
    "      <!-- real -->\n",
    "      <remap from=\"scan\" to =\"/scan\"/>\n",
    "      <!-- param name=\"map_udpate_interval\" value=\"5.0\"/ -->\n",
    "      <param name=\"base_frame\" value=\"ADD FRAME\"/>\n",
    "      <param name=\"odom_frame\" value=\"ADD FRAME\"/>\n",
    "      <param name=\"map_udpate_interval\" value=\"5.0\"/>\n",
    "      <param name=\"maxUrange\" value=\"0.5\"/>\n",
    "      <param name=\"sigma\" value=\"0.05\"/>\n",
    "      <param name=\"kernelSize\" value=\"1\"/>\n",
    "      <param name=\"lstep\" value=\"0.05\"/>\n",
    "      <param name=\"astep\" value=\"0.05\"/>\n",
    "      <param name=\"iterations\" value=\"5\"/>\n",
    "      <param name=\"lsigma\" value=\"0.075\"/>\n",
    "      <param name=\"ogain\" value=\"3.0\"/>\n",
    "      <param name=\"lskip\" value=\"0\"/>\n",
    "      <param name=\"srr\" value=\"0.1\"/>\n",
    "      <param name=\"srt\" value=\"0.2\"/>\n",
    "      <param name=\"str\" value=\"0.1\"/>\n",
    "      <param name=\"stt\" value=\"0.2\"/>\n",
    "      <param name=\"linearUpdate\" value=\"0.2\"/>\n",
    "      <param name=\"angularUpdate\" value=\"0.1\"/>\n",
    "      <param name=\"temporalUpdate\" value=\"3.0\"/>\n",
    "      <param name=\"resampleThreshold\" value=\"0.5\"/>\n",
    "      <param name=\"particles\" value=\"100\"/>\n",
    "      <param name=\"xmin\" value=\"-50.0\"/>\n",
    "      <param name=\"ymin\" value=\"-50.0\"/>\n",
    "      <param name=\"xmax\" value=\"50.0\"/>\n",
    "      <param name=\"ymax\" value=\"50.0\"/>\n",
    "      <param name=\"delta\" value=\"0.05\"/>\n",
    "      <param name=\"llsamplerange\" value=\"0.01\"/>\n",
    "      <param name=\"llsamplestep\" value=\"0.01\"/>\n",
    "      <param name=\"lasamplerange\" value=\"0.005\"/>\n",
    "      <param name=\"lasamplestep\" value=\"0.005\"/>\n",
    "    </node>\n",
    "</launch>"
   ]
  },
  {
   "cell_type": "markdown",
   "metadata": {},
   "source": [
    "**4. Launch the node using the launch file that you've just created, and create a map of the environment.**\n",
    "\n",
    "In order to move the robot around the environment, you can use the keyboard teleop. To launch the keyboard teleop, just execute the following commands:"
   ]
  },
  {
   "cell_type": "markdown",
   "metadata": {},
   "source": [
    "<span class=\"badge badge-pill badge-primary\">\n",
    "    <i class=\"fa fa-play\"></i>\n",
    "    &nbsp;\n",
    "    Execute in Terminal #2\n",
    "</span>"
   ]
  },
  {
   "cell_type": "code",
   "execution_count": null,
   "metadata": {},
   "outputs": [],
   "source": [
    "export TURTLEBOT3_MODEL=burger\n",
    "roslaunch turtlebot3_teleop turtlebot3_teleop_key.launch"
   ]
  },
  {
   "cell_type": "markdown",
   "metadata": {},
   "source": [
    "Also, remember to launch rviz and add the proper displays in order to visualize the map you are generating. You should get something like this in rviz:\n",
    "\n",
    "<img src=\"images/RRL_nav_mapping_small.png\"/>\n",
    "\n",
    "Now, start moving the robot around to create the map. What's happening? Are you having difficulty generating a proper map? Is there anything strange in the mapping process? Do you know what could be the reason behind it?\n",
    "\n",
    "What's happening here is the following:\n",
    "\n",
    "* Your *maxUrange* parameter in the launch file of the *slam_gmapping* node is set to 0.5. This parameter sets the maximum range of the laser scanner that is used for map building. Since this is a small value, the robot can't get enough data to know where it is, so it may get lost. This will cause some strange issues during the mapping process, such as the robot readjusting its position incorrectly.\n",
    "* In order to solve it, you should set the *maxUrange* parameter to some higher value, for instance, 7. This way, the robot will be able to get more data from the environemnt, so that it won't get lost. Now, you'll be able to finalize the mapping process correctly.\n",
    "\n",
    "Once you modify this parameter and relaunch the *slam_gmapping* node, you should get something like this in rviz:\n",
    "\n",
    "<img src=\"images/RRL_nav_mapping.png\"/>\n",
    "\n",
    "Now, you will be able to map the environment much more easily.\n",
    "\n",
    "**5. Save the Map.**\n",
    "\n",
    "Create a directory in your package named maps, and save the map files there. Your map image file should look something similar to this:\n",
    "\n",
    "<img src=\"images/map.png\"/>\n",
    "\n",
    "**6. Create a launch file that launches the map_server node**\n",
    "\n",
    "As you've also seen in the course, the map you've just created will be used by other nodes (this means, it'll be used in further steps) in order to perform navigation.\n",
    "\n",
    "Therefore, you'll need to create a launch file in order to provide the map. As you know, this is done through the *map_server* node.\n",
    "\n",
    "Finally, launch this file and check that it's really providing the map."
   ]
  },
  {
   "cell_type": "markdown",
   "metadata": {},
   "source": [
    "<div>\n",
    "    <h1 class=\"text-center\">\n",
    "        <span class=\"text-primary\">Section 2</span>\n",
    "        &nbsp;\n",
    "        <span class=\"\">Localization</span>\n",
    "    </h1>\n",
    "</div>"
   ]
  },
  {
   "cell_type": "markdown",
   "metadata": {},
   "source": [
    "In this section you will localize the robot using the `amcl` node, and create a file that records 3 spots in the map for later use. This section has 5 steps:\n",
    "\n",
    "1. Create a package called `my_turtlebot_localization` that will contain all of the files related to localization.\n",
    "2. Create a **launch file** that will launch the *amcl* node and add the necessary parameters in order to properly configure the *amcl* node.\n",
    "3. Launch the node and check that the robot properly localizes itself in the environment.\n",
    "4. Create a table with three different spots.\n",
    "5. Create a ROS service to save these spots into a file.\n",
    "\n",
    "**1. Create a package called `my_turtlebot_localization`**\n",
    "\n",
    "Create the package adding `rospy` as the only dependency.\n",
    "\n",
    "**2. Create a launch file for the `amcl` node**\n",
    "\n",
    "In the localization section (Chapter 3) of this course, you saw how to create a launch file for the `amcl` node. You've also seen some of the most important parameters to set. So, in this step, you'll have to create a launch file for the `amcl` node and add the parameters you think you need to set.\n",
    "\n",
    "Here you can see a full list of parameters that you can set to configure the amcl node: http://wiki.ros.org/amcl\n",
    "\n",
    "Remember that before setting the `amcl` node parameters, you'll need to load the map created in Section 1. For that, you'll just need to include the launch you've created in Section 1 in the `amcl` node launch file in order to provide the map to other nodes.\n",
    "\n",
    "**3. Launch the node and check that the TurtleBot3 robot correctly localizes itself in the map.**\n",
    "\n",
    "Launch the node and check in rviz that the TurtleBot3 robot correctly localizes itself in the map.\n",
    "\n",
    "In order to check that the localization works fine, move the robot around the environment and check that the particle cloud keeps getting smaller the more you move the robot. If you've done all of the previous steps correctly, you should see something like this in `rviz`:\n",
    "\n",
    "Dispersed particles:\n",
    "\n",
    "<img src=\"images/RRL_nav_amcl_spread.png\"/>\n",
    "\n",
    "Crowded particles:\n",
    "\n",
    "<img src=\"images/RRL_nav_amcl_tight.png\"/>\n",
    "\n",
    "**4. Create the spots table.**\n",
    "\n",
    "Once you've checked that localization is working fine, you'll need to create a table with 3 different spots in the environemnt. For each point, assign a tag (with the name of the spot) alongside its coordinates in the map.\n",
    "\n",
    "These are the 3 spots that you'll have to register into the table:\n",
    "\n",
    "Fetch first corner (**label: corner1**):\n",
    "\n",
    "<img src=\"images/corner1.png\"/>\n",
    "\n",
    "Fetch second corner (**label: corner2**):\n",
    "\n",
    "<img src=\"images/corner2.png\"/>\n",
    "\n",
    "Fetch pedestrian cross (**label: pedestrian**):\n",
    "\n",
    "<img src=\"images/pedestrian.png\"/>\n",
    "\n",
    "You can access the coordinates of each position by looking into the topics that the `amcl` node publishes on. The only data that you really need to save are the position and orientation.\n",
    "\n",
    "Next, you have a screenshot of the `/amcl_pose` topic:\n",
    "\n",
    "<img src=\"images/amcl_pose.png\"/>\n",
    "\n",
    "Create a file named `spots.yaml` and write in the pose data that you've gotten from the 3 spots.\n",
    "\n",
    "**5. Create a ROS service that saves these spots into a file.**\n",
    "\n",
    "In the previous section, you created a file with the coordinates of the 3 spots. But, the whole process was too cumbersome, don't you think? Why don't we create a ROS Service that does the work for us? Sounds like a good idea, right? Then, let's do it!\n",
    "\n",
    "So, now you'll create a ROS program that will do the following:\n",
    "\n",
    "* It will launch a node named **`spot_recorder`**.\n",
    "* This node will contain a service server named **`/save_spot`** that will take a string as input\n",
    "* When this service is called, it will store the current coordinates of the robot (position and orientation values) with a label that will be the string provided on the service.\n",
    "* When the end string is provided in the service call, the node will write all of the values stored into a file named **`spots.txt`**.\n",
    "* Finally, the service will return a message indicating if the file has been saved correctly.\n",
    "\n",
    "In order to achieve this, let's divide it into smaller parts.\n",
    "\n",
    "#### 1. Service Message\n",
    "\n",
    "First of all, you'll have to determine the kind of data you need for your service message.\n",
    "\n",
    "* Determine what input data you need ( <span class=\"ign_blue\">**request**</span> )\n",
    "* Determine what data you want the service to return ( <span class=\"ign_blue\">**response**</span> )\n",
    "\n",
    "Next, see if there is an already-built message in the system that suits your needs. If there isn't, then you'll have to create your own custom message with the data you want.\n",
    "\n",
    "If this is the case, then do the following. Inside the pacakge you just created, create a new directory named **srv**. Inside this directory, create a file named **`MyServiceMessage.srv`** that will contain the definition of your service message. \n",
    "\n",
    "This file could be something like this:"
   ]
  },
  {
   "cell_type": "code",
   "execution_count": null,
   "metadata": {},
   "outputs": [],
   "source": [
    "# request\n",
    "string label\n",
    "---\n",
    "#response\n",
    "bool navigation_successfull\n",
    "string message"
   ]
  },
  {
   "cell_type": "markdown",
   "metadata": {},
   "source": [
    "Now, you'll have to modify the **`package.xml`** and **`CMakeLists.txt`** files of your package in order to compile the new message. Assuming that the only dependency you added to your package was **`rospy`**, you should do the following modifications to these files:\n",
    "\n",
    "#### In `CMakeLists.txt`\n",
    "\n",
    "You will have to edit/uncomment four functions inside this file:\n",
    "* `find_package()`\n",
    "* `add_service_files()`\n",
    "* `generate_messages()`\n",
    "* `catkin_package()`"
   ]
  },
  {
   "cell_type": "code",
   "execution_count": null,
   "metadata": {},
   "outputs": [],
   "source": [
    "find_package(catkin REQUIRED COMPONENTS\n",
    "  rospy\n",
    "  std_msgs\n",
    "  message_generation\n",
    ")"
   ]
  },
  {
   "cell_type": "code",
   "execution_count": null,
   "metadata": {},
   "outputs": [],
   "source": [
    "add_service_files(\n",
    "  FILES\n",
    "  MyServiceMessage.srv\n",
    ")"
   ]
  },
  {
   "cell_type": "code",
   "execution_count": null,
   "metadata": {},
   "outputs": [],
   "source": [
    "generate_messages(\n",
    "  DEPENDENCIES\n",
    "  std_msgs\n",
    ")"
   ]
  },
  {
   "cell_type": "code",
   "execution_count": null,
   "metadata": {},
   "outputs": [],
   "source": [
    "catkin_package(\n",
    "      CATKIN_DEPENDS\n",
    "      rospy\n",
    ")"
   ]
  },
  {
   "cell_type": "markdown",
   "metadata": {},
   "source": [
    "#### In `package.xml`:\n",
    "\n",
    "Add these 2 lines to the file:"
   ]
  },
  {
   "cell_type": "code",
   "execution_count": null,
   "metadata": {},
   "outputs": [],
   "source": [
    "<build_depend>message_generation</build_depend>\n",
    "<build_export_depend>message_runtime</build_export_depend>\n",
    "<exec_depend>message_runtime</exec_depend>"
   ]
  },
  {
   "cell_type": "markdown",
   "metadata": {},
   "source": [
    "When you've finshed with the modifications, compile your package and check that your message has been correctly compiled and is ready to use. In order to check this, you can use the command:"
   ]
  },
  {
   "cell_type": "markdown",
   "metadata": {},
   "source": [
    "<span class=\"badge badge-pill badge-primary\">\n",
    "    <i class=\"fa fa-play\"></i>\n",
    "    &nbsp;\n",
    "    Execute in Terminal\n",
    "</span>"
   ]
  },
  {
   "cell_type": "code",
   "execution_count": null,
   "metadata": {},
   "outputs": [],
   "source": [
    "rossrv show MyServiceMessage"
   ]
  },
  {
   "cell_type": "markdown",
   "metadata": {},
   "source": [
    "catkin_make output:\n",
    "\n",
    "<img src=\"images/RRL_nav_cm_srv.png\"/>\n",
    "\n",
    "rossrv show output:\n",
    "\n",
    "<img src=\"images/RRL_nav_rossrv.png\"/>"
   ]
  },
  {
   "cell_type": "markdown",
   "metadata": {},
   "source": [
    "#### 2. Service Code\n",
    "\n",
    "Once your message is created, you're ready to use it in your service! So, let's write the code for our service. Inside the src directory of your package, create a file named **`spots_to_file.py`**. Inside this file, write the code necessary for you service.\n",
    "\n",
    "#### 3. Launch File\n",
    "Create a launch file for the node you've just created. You can also launch this node in the same launch file you've created to launch the slam_gmapping node. It's up to you.\n",
    "\n",
    "#### 4. Test it\n",
    "Using the keyboard teleop, move the robot to the 3 different spots shown above. At each one of these spots, perform a service call to the service you've just created. In the service call, provide the string with the name that you want to give to each spot.\n",
    "\n",
    "For example, when you are at the bottom left corner of the lab, call your service like this:"
   ]
  },
  {
   "cell_type": "markdown",
   "metadata": {},
   "source": [
    "<span class=\"badge badge-pill badge-primary\">\n",
    "    <i class=\"fa fa-play\"></i>\n",
    "    &nbsp;\n",
    "    Execute in Terminal\n",
    "</span>"
   ]
  },
  {
   "cell_type": "code",
   "execution_count": null,
   "metadata": {},
   "outputs": [],
   "source": [
    "rosservice call /record_spot \"label: corner1\""
   ]
  },
  {
   "cell_type": "markdown",
   "metadata": {},
   "source": [
    "Repeat this for each of the 3 spots. When finished, do one last service call, providing *end* as the string in order to create the file."
   ]
  },
  {
   "cell_type": "markdown",
   "metadata": {},
   "source": [
    "<div>\n",
    "    <h1 class=\"text-center\">\n",
    "        <span class=\"text-primary\">Section 3</span>\n",
    "        &nbsp;\n",
    "        <span class=\"\">Path Planning System</span>\n",
    "    </h1>\n",
    "</div>"
   ]
  },
  {
   "cell_type": "markdown",
   "metadata": {},
   "source": [
    "In this section you will create a path planning system using the `move_base` node in order to navigate autonomously. This section has 5 actions for you to take:\n",
    "\n",
    "* Create a package called **`my_turtlebot_path_planning`** that will contain all of the files related to Path Planning.\n",
    "* Create a **launch file** that will launch the move_base node.\n",
    "* Create the necessary parameter files in order to properly configure the `move_base` node.\n",
    "* Create the necessary parameter files in order to properly configure the global and local costmaps.\n",
    "* Create the necessary parameter files in order to properly configure the global and local planners.\n",
    "* Launch the node and check that everything works fine."
   ]
  },
  {
   "cell_type": "markdown",
   "metadata": {},
   "source": [
    "**1. Create a package named `my_turtlebot_path_planning`.**\n",
    "\n",
    "**2. Create the launch file for the `move_base` node.**\n",
    "\n",
    "In the Path Planning section (Chapter 4) of this course, you saw how to create a launch file for the `move_base` node. So, in this step, you'll have to create a launch file for the `move_base` node and add the parameters and the parameter files required.\n",
    "\n",
    "Here you have an example of the `move_base.launch` file:"
   ]
  },
  {
   "cell_type": "code",
   "execution_count": null,
   "metadata": {},
   "outputs": [],
   "source": [
    "<launch>\n",
    "  <!--- Run AMCL -->\n",
    "  <include file=\"$(find my_turtlebot_localization)/launch/my_turtlebot_localization.launch\" />\n",
    "\n",
    "  <!-- Run move_base -->\n",
    "  <node pkg=\"move_base\" type=\"move_base\" respawn=\"false\" name=\"move_base\" output=\"screen\">\n",
    "    <rosparam file=\"$(find my_turtlebot_path_planning)/config/move_base_params.yaml\" command=\"load\" />\n",
    "    <rosparam file=\"$(find my_turtlebot_path_planning)/config/costmap_common_params.yaml\" command=\"load\" ns=\"global_costmap\" />\n",
    "    <rosparam file=\"$(find my_turtlebot_path_planning)/config/costmap_common_params.yaml\" command=\"load\" ns=\"local_costmap\" />\n",
    "    <rosparam file=\"$(find my_turtlebot_path_planning)/config/local_costmap_params.yaml\" command=\"load\" />\n",
    "    <param name=\"local_costmap/width\" value=\"10.0\"/>\n",
    "    <param name=\"local_costmap/height\" value=\"10.0\"/>\n",
    "    <rosparam file=\"$(find my_turtlebot_path_planning)/config/global_costmap_params_map.yaml\" command=\"load\" />\n",
    "    <rosparam file=\"$(find my_turtlebot_path_planning)/config/dwa_local_planner_params.yaml\" command=\"load\" />\n",
    "    <rosparam file=\"$(find my_turtlebot_path_planning)/config/global_planner_params.yaml\" command=\"load\" />\n",
    "\n",
    "    <param name=\"base_global_planner\" value=\"navfn/NavfnROS\" />\n",
    "    <param name=\"base_local_planner\" value=\"dwa_local_planner/DWAPlannerROS\" />\n",
    "    <param name=\"controller_frequency\" value=\"5.0\" />\n",
    "    <param name=\"controller_patience\" value=\"15.0\" />\n",
    "  </node>\n",
    "\n",
    "</launch>"
   ]
  },
  {
   "cell_type": "markdown",
   "metadata": {},
   "source": [
    "**3. Create the `move_base_params.yaml` file**\n",
    "\n",
    "**4. Create the `costmap_common_params.yaml`, the `global_costmap_params.yaml`, and the `local_costmap_params.yaml` files**\n",
    "\n",
    "**5. Create the `navfn_global_planner_params.yaml` and dwa_local_planner_params.yaml files**\n",
    "\n",
    "**6. Launch the node and check that everything works fine**\n",
    "\n",
    "Once you think your parameter files are correct, launch the node and test that the path planning works fine. Check that the robot can plan trajectories and navigate to different points in the environment.\n"
   ]
  },
  {
   "cell_type": "markdown",
   "metadata": {},
   "source": [
    "<div>\n",
    "    <h1 class=\"text-center\">\n",
    "        <span class=\"text-primary\">Section 4</span>\n",
    "        &nbsp;\n",
    "        <span class=\"\">Create program that interacts with Navigation Stack</span>\n",
    "    </h1>\n",
    "</div>"
   ]
  },
  {
   "cell_type": "markdown",
   "metadata": {},
   "source": [
    "In this section you will wite a ROS program that interacts with the navigation stack and sends the 3 spots recorded in section II through a service that will take a string as input. \n",
    "\n",
    "This string will indicate one of the labels that you selected in Step 2 for the different spots in the simulation. When this service receives a call with the label, it will get the coordinates (position and orientation) associated with that label, and will send these coordinates to the move_base action server. If it finished correctly, the service will return an \"OK\" message.\n",
    "\n",
    "Summarizing, you will have to create a node that contains:\n",
    "\n",
    "* A service that will take a string as input. Those strings will be the labels you selected in Step 2 for each one of the spots.\n",
    "* An action client that will send goals to the move_base action server.\n",
    "\n",
    "In order to achieve this, follow the next steps:\n",
    "\n",
    "**1. Create the package**\n",
    "\n",
    "Create the package called `my_turtlebot_navigation` that will contain all of the files related to this project. Remember to specify the **`rospy`** dependency.\n",
    "\n",
    "**2. Create the service message**\n",
    "\n",
    "First of all, you'll have to determine the kind of data you need for your message.\n",
    "\n",
    "* Determine what input data you need ( <span class=\"ign_blue\">**request**</span> )\n",
    "* Determine what data you want the service to return ( <span class=\"ign_blue\">**response**</span> )\n",
    "\n",
    "Next, see if there is an already-built message in the system that suits your needs. If there isn't, then you'll have to create your own custom message with the data you want.\n",
    "\n",
    "If this is the case, then do the following. Inside the package that you just created, create a new directory named **srv**. Inside this directory, create a file named **`MyServiceMessage.srv`** that will contain the definition of your service message. \n",
    "\n",
    "This file could be something like this:"
   ]
  },
  {
   "cell_type": "code",
   "execution_count": null,
   "metadata": {},
   "outputs": [],
   "source": [
    "# request\n",
    "string label\n",
    "---\n",
    "#response\n",
    "bool navigation_successfull\n",
    "string message"
   ]
  },
  {
   "cell_type": "markdown",
   "metadata": {},
   "source": [
    "Now, you'll have to modify the **`package.xml`** and **`CMakeLists.txt`** files of your package in order to compile the new message. Assuming the only dependency you added to your package was **`rospy`**, you should do the following modifications to these files:\n",
    "\n",
    "#### In `CMakeLists.txt`\n",
    "\n",
    "You will have to edit/uncomment four functions inside this file:\n",
    "\n",
    "* `find_package()`\n",
    "* `add_service_files()`\n",
    "* `generate_messages()`\n",
    "* `catkin_package()`"
   ]
  },
  {
   "cell_type": "code",
   "execution_count": null,
   "metadata": {},
   "outputs": [],
   "source": [
    "find_package(catkin REQUIRED COMPONENTS\n",
    "  rospy\n",
    "  std_msgs\n",
    "  message_generation\n",
    ")"
   ]
  },
  {
   "cell_type": "code",
   "execution_count": null,
   "metadata": {},
   "outputs": [],
   "source": [
    "add_service_files(\n",
    "  FILES\n",
    "  MyCustomServiceMessage.srv\n",
    ")"
   ]
  },
  {
   "cell_type": "code",
   "execution_count": null,
   "metadata": {},
   "outputs": [],
   "source": [
    "generate_messages(\n",
    "  DEPENDENCIES\n",
    "  std_msgs\n",
    ")"
   ]
  },
  {
   "cell_type": "code",
   "execution_count": null,
   "metadata": {},
   "outputs": [],
   "source": [
    "catkin_package(\n",
    "      CATKIN_DEPENDS\n",
    "      rospy\n",
    ")"
   ]
  },
  {
   "cell_type": "markdown",
   "metadata": {},
   "source": [
    "#### In `package.xml`\n",
    "\n",
    "Add these 2 lines to the file:"
   ]
  },
  {
   "cell_type": "code",
   "execution_count": null,
   "metadata": {},
   "outputs": [],
   "source": [
    "<build_depend>message_generation</build_depend>\n",
    "<build_export_depend>message_runtime</build_export_depend>\n",
    "<exec_depend>message_runtime</exec_depend>"
   ]
  },
  {
   "cell_type": "markdown",
   "metadata": {},
   "source": [
    "When you've finshed with the modifications, compile your package and check that your message has been correctly compiled and is ready to use. In order to check this, you can use the command **r`ossrv show MyServiceMessage`**.\n",
    "\n",
    "**3. Create the Service Server.**\n",
    "\n",
    "Once your message is created, you're ready to use it in your service! So, let's write the code for our service. Inside the src directory of your package, create a file named **`get_coordinates_service_server.py`**. Inside this file, write the code necessary for your service.\n",
    "\n",
    "**4. Create the Action Client**\n",
    "\n",
    "Inside the src directory, create a file named **`send_coordinates_action_client.py`** that will contain the code of an action client.\n",
    "\n",
    "Once you've finished writting your code, it's time to test it! Call your service by providing one of the labels, and check that the robot navigates to that spot. For example, if your label is \"table,\" type the following into a WebShell:"
   ]
  },
  {
   "cell_type": "code",
   "execution_count": null,
   "metadata": {},
   "outputs": [],
   "source": [
    "rosservice call /get_coordinates \"label: 'corner1'\""
   ]
  },
  {
   "cell_type": "markdown",
   "metadata": {},
   "source": [
    "**5. Create a launch file that manages everything.**\n",
    "\n",
    "As you may have noticed in the previous step, you need to have the **`move_base`** node running in order to make everything work. So, let's create a launch file that starts the **`move_base`** node alongside with the Service Server you have just created above."
   ]
  },
  {
   "cell_type": "markdown",
   "metadata": {},
   "source": [
    "<div>\n",
    "    <h1 class=\"text-center\">\n",
    "        <span class=\"text-primary\">Section 5</span>\n",
    "        &nbsp;\n",
    "        <span class=\"\">Book a date to present your project on YouTube (optional)</span>\n",
    "    </h1>\n",
    "</div>"
   ]
  },
  {
   "cell_type": "markdown",
   "metadata": {},
   "source": [
    "An important part of your learning is to teach others what you have learned.\n",
    "\n",
    "In order to get the most out of your learning, you should deliver a live presentation on your project. \n",
    "\n",
    "If you want to take this brave step, contact us at info@theconstructsim.com requesting a presentation and we will agree on the day and time.\n",
    "\n",
    "**You will have to**:\n",
    "1. Prepare your presentation. You will have to explain your project in 15 minutes: how you solved it and how it works.\n",
    "2. On the agreed upon day, you will need to have a camera and mic ready.\n",
    "3. We will contact you on the day and prepare the whole broadcast. We will handle everything, you only need to be ready to present.\n",
    "\n",
    "\n",
    "The event will be broadcast on Youtube, so anybody around the world can attend and watch your presentation."
   ]
  },
  {
   "cell_type": "markdown",
   "metadata": {},
   "source": [
    "It's important to remark that, although this step is optional, it is mandatory in order to get the certificate of the course. **Without successfully completing the presentation, you won't be able to earn the course certificate**.\n",
    "\n",
    "<img src=\"realrobotlab_notebooks/certificate-template.png\" width=\"600\" />"
   ]
  },
  {
   "cell_type": "markdown",
   "metadata": {},
   "source": [
    "<div>\n",
    "    <h1 class=\"text-center\">\n",
    "        <span class=\"text-primary\">Section 5</span>\n",
    "        &nbsp;\n",
    "        <span class=\"\">Share your project on LinkedIn or social networks</span>\n",
    "    </h1>\n",
    "</div>"
   ]
  },
  {
   "cell_type": "markdown",
   "metadata": {},
   "source": [
    "The rosject that you created with this project is a demonstration of your value as a ROS Developer.\n",
    "\n",
    "You can share your rosject on any website to show the ROS projects you have worked on. This can help future employers hire you.\n",
    "\n",
    "In order to share your rosject:\n",
    "* Go to your list of rosjects\n",
    "* Click on the *Share* button of your rosject to get the share link.\n",
    "\n",
    "<img src=\"realrobotlab_notebooks/rosject.png\" width=\"400\"/>\n",
    "\n",
    "* Then you can publish the link anywhere. Remember to use the *Permanent link*\n",
    "\n",
    "<img src=\"realrobotlab_notebooks/sharelink.png\" width=\"400\"/>"
   ]
  },
  {
   "cell_type": "markdown",
   "metadata": {},
   "source": [
    "<div>\n",
    "    <h1 class=\"text-center\">\n",
    "        <span class=\"text-primary\">Appendix</span>\n",
    "        &nbsp;\n",
    "        <span class=\"\">How to connect to the real robot</span>\n",
    "    </h1>\n",
    "</div>"
   ]
  },
  {
   "cell_type": "markdown",
   "metadata": {},
   "source": [
    "Once you know the basics of the operation with a simulated version, it's time to use the real Turtlebot3 robot.\n",
    "\n",
    "### You can book up to two 25-minute sessions per week\n",
    "\n",
    "To make a booking, follow these simple steps:"
   ]
  },
  {
   "cell_type": "markdown",
   "metadata": {},
   "source": [
    "<div>\n",
    "    <h1 class=\"text-center\">\n",
    "        <span class=\"text-primary\">Step 1</span>\n",
    "        &nbsp;\n",
    "        <span class=\"\">Book a session</span>\n",
    "    </h1>\n",
    "</div>"
   ]
  },
  {
   "cell_type": "markdown",
   "metadata": {},
   "source": [
    "In the main dashboard of The Construct, you can book a session by clicking on this icon:"
   ]
  },
  {
   "cell_type": "markdown",
   "metadata": {},
   "source": [
    "<img src=\"realrobotlab_notebooks/reallab2.png\"/>"
   ]
  },
  {
   "cell_type": "markdown",
   "metadata": {},
   "source": [
    "A booking page will appear, where you can do two things:\n",
    "* Check your bookings"
   ]
  },
  {
   "cell_type": "markdown",
   "metadata": {},
   "source": [
    "<img src=\"realrobotlab_notebooks/bookasession.png\"/>\n"
   ]
  },
  {
   "cell_type": "markdown",
   "metadata": {},
   "source": [
    "* Make a new booking"
   ]
  },
  {
   "cell_type": "markdown",
   "metadata": {},
   "source": [
    "<img src=\"realrobotlab_notebooks/bookings.png\"/>\n"
   ]
  },
  {
   "cell_type": "markdown",
   "metadata": {},
   "source": [
    "You can either click on `Book a robot` on the bottom and then select the Turtlebot, or just click on `Book now` where the image of the turtlebot is and select the date and time for your reservation:"
   ]
  },
  {
   "cell_type": "markdown",
   "metadata": {},
   "source": [
    "<img src=\"realrobotlab_notebooks/reservet3.png\"/>"
   ]
  },
  {
   "cell_type": "markdown",
   "metadata": {},
   "source": [
    "The **dates and times shown are the ones available**. They come in **25-minute blocks**.\n",
    "\n",
    "There is also a limitation on the number of bookings per week a user can make. \n",
    "\n",
    "This depends on your particular license and subscription.\n",
    "\n",
    "Select a time and then confirm:"
   ]
  },
  {
   "cell_type": "markdown",
   "metadata": {},
   "source": [
    "<img src=\"realrobotlab_notebooks/confirm.png\"/>"
   ]
  },
  {
   "cell_type": "markdown",
   "metadata": {},
   "source": [
    "<div>\n",
    "    <h1 class=\"text-center\">\n",
    "        <span class=\"text-primary\">Step 2</span>\n",
    "        &nbsp;\n",
    "        <span class=\"\">Open project rosject</span>\n",
    "    </h1>\n",
    "</div>"
   ]
  },
  {
   "cell_type": "markdown",
   "metadata": {},
   "source": [
    "To have the best experience, you need to launch the rosject with the simulation of Turtlebot3. Chances are that if you are reading this, you have already launched it.\n",
    "\n",
    "When **one hour or less** is remaining until your booking session, a warning icon will be shown at the bottom menu bar. This means that you have less than an hour to get ready for your session. You will also see the remaining time to your session."
   ]
  },
  {
   "cell_type": "markdown",
   "metadata": {},
   "source": [
    "<img src=\"realrobotlab_notebooks/remaining.png\"/>"
   ]
  },
  {
   "cell_type": "markdown",
   "metadata": {},
   "source": [
    "The orange dot will turn into a **red dot** when your booking session has started."
   ]
  },
  {
   "cell_type": "markdown",
   "metadata": {},
   "source": [
    "<div>\n",
    "    <h1 class=\"text-center\">\n",
    "        <span class=\"text-primary\">Step 3</span>\n",
    "        &nbsp;\n",
    "        <span class=\"\">Turn ON robot connection</span>\n",
    "    </h1>\n",
    "</div>"
   ]
  },
  {
   "cell_type": "markdown",
   "metadata": {},
   "source": [
    "Once you are inside the rosject and your real robot session has started, click on the robot icon at the bottom. A popup with a toggle for **turning on the connection** will appear.\n",
    "\n",
    "**WARNING: Nothing will appear unless you have a booking. So if you didn't make a booking in the dashboard, feel free to do so.**\n",
    "\n",
    "Now you just have to click on the toggle to connect the desktop environment to the remote lab. This will start the connection process, which lasts for a few seconds. \n",
    "\n",
    "Once the connection process is finished, the **red dot will change to green** if succesfully connected. Now **any terminal you open will show the topics and services of the real robot**.\n",
    "\n",
    "Move the joystick around to confirm you are connected to the robot:"
   ]
  },
  {
   "cell_type": "markdown",
   "metadata": {},
   "source": [
    "<img src=\"realrobotlab_notebooks/rrl.gif\"/>"
   ]
  },
  {
   "cell_type": "markdown",
   "metadata": {},
   "source": [
    "You should be able to do the following command, getting a list of topics similar to this. The first time you issue a ROS command, it could take an extra 30 seconds to appear:"
   ]
  },
  {
   "cell_type": "markdown",
   "metadata": {},
   "source": [
    "<span class=\"badge badge-pill badge-primary\">\n",
    "    <i class=\"fa fa-play\"></i>\n",
    "    &nbsp;\n",
    "    Execute in Terminal #1\n",
    "</span>"
   ]
  },
  {
   "cell_type": "code",
   "execution_count": null,
   "metadata": {},
   "outputs": [],
   "source": [
    "rostopic list"
   ]
  },
  {
   "cell_type": "code",
   "execution_count": null,
   "metadata": {},
   "outputs": [],
   "source": [
    "/battery_state\n",
    "/cmd_vel\n",
    "/cmd_vel_rc100\n",
    "/diagnostics\n",
    "/firmware_version\n",
    "/imu\n",
    "/joint_states\n",
    "/magnetic_field\n",
    "/motor_power\n",
    "/odom\n",
    "/reset\n",
    "/rosout\n",
    "/rosout_agg\n",
    "/rpms\n",
    "/scan\n",
    "/sensor_state\n",
    "/sound\n",
    "/tf\n",
    "/tf_static\n",
    "/version_info"
   ]
  },
  {
   "cell_type": "markdown",
   "metadata": {},
   "source": [
    "**Note**: Take into account that you **will not be able to push git changes when turned on, because there is no interenet connection**.\n",
    "\n",
    "So, to push any changes in your remote gits in the rosject, you will have to turn off the connection (or wait until your time is up)."
   ]
  },
  {
   "cell_type": "markdown",
   "metadata": {},
   "source": [
    "<span style='background :orange' > Move the robot around: Be careful to **NOT exceed a linear speed of 0.19 and angular of 0.49** because, otherwise, the node will be terminated for security reasons. </span>"
   ]
  },
  {
   "cell_type": "markdown",
   "metadata": {},
   "source": [
    "You are now connected to the robot! So let's try moving the robot around and seeing the lasers and the camera in rviz."
   ]
  },
  {
   "cell_type": "markdown",
   "metadata": {},
   "source": [
    "<span class=\"badge badge-pill badge-primary\">\n",
    "    <i class=\"fa fa-play\"></i>\n",
    "    &nbsp;\n",
    "    Execute in Terminal #1\n",
    "</span>"
   ]
  },
  {
   "cell_type": "code",
   "execution_count": null,
   "metadata": {},
   "outputs": [],
   "source": [
    "rviz"
   ]
  },
  {
   "cell_type": "markdown",
   "metadata": {},
   "source": [
    "You can then add an image and scan elements in the **base_link** frame, having something like this:"
   ]
  },
  {
   "cell_type": "markdown",
   "metadata": {},
   "source": [
    "<img src=\"realrobotlab_notebooks/robox_demo_t3.gif\" width=1200/>"
   ]
  },
  {
   "cell_type": "markdown",
   "metadata": {},
   "source": [
    "## Ready for your programs!\n",
    "\n",
    "If you have reached this point, it means that you have a proper connection with the remote real robot lab. **Now you can launch the programs of your project and see the results on a real robot**."
   ]
  }
 ],
 "metadata": {
  "anaconda-cloud": {},
  "kernelspec": {
   "display_name": "Python 2",
   "language": "python",
   "name": "python2"
  },
  "language_info": {
   "codemirror_mode": {
    "name": "ipython",
    "version": 2
   },
   "file_extension": ".py",
   "mimetype": "text/x-python",
   "name": "python",
   "nbconvert_exporter": "python",
   "pygments_lexer": "ipython2",
   "version": "2.7.16"
  }
 },
 "nbformat": 4,
 "nbformat_minor": 1
}
